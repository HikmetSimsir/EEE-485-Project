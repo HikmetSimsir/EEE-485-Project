{
 "cells": [
  {
   "cell_type": "markdown",
   "metadata": {},
   "source": [
    "# The Project\n",
    "## Importing the libraries\n",
    "We will import the ...\n"
   ]
  },
  {
   "cell_type": "code",
   "execution_count": null,
   "metadata": {},
   "outputs": [],
   "source": [
    "# import the libraries used\n",
    "import numpy as np\n",
    "import pandas as pd\n",
    "import scipy as sp\n",
    "import seaborn as sb\n",
    "# import util.py file in the same directory\n",
    "import util\n",
    "\n",
    "#from sklearn import linear_model\n",
    "from sklearn.linear_model import LogisticRegression\n",
    "import matplotlib.pyplot as plt\n",
    "from sklearn.metrics import classification_report\n",
    "from sklearn.metrics import accuracy_score\n",
    "from sklearn.model_selection import train_test_split\n",
    "from sklearn.model_selection import cross_val_score\n",
    "from sklearn import svm\n",
    "#from sklearn.svm import NuSVC, LinearSVC\n",
    "from sklearn import tree\n",
    "from sklearn.neural_network import MLPClassifier\n",
    "from sklearn.neighbors import  KNeighborsClassifier\n"
   ]
  },
  {
   "cell_type": "markdown",
   "metadata": {},
   "source": [
    "## Reading the dataset\n",
    "blah blah "
   ]
  },
  {
   "cell_type": "code",
   "execution_count": null,
   "metadata": {},
   "outputs": [],
   "source": [
    "#print(util.sigmoid(3))\n",
    "\n",
    "file_name = \"yeast.csv\" \n",
    "md = pd.read_csv(file_name)\n",
    "\n",
    "# md.dropna(inplace = True)\n",
    "# md.replace('unknown', 0, inplace = True)\n",
    "md.head()\n",
    "\n"
   ]
  },
  {
   "cell_type": "markdown",
   "metadata": {},
   "source": [
    "## Preprocessing & Clearing the data\n",
    "$\\LaTeX$ ed markdown is cool, $isn^t$ it ?\n",
    "\n",
    "\n",
    "Is there a need for a preprocessing step?\n",
    "\n",
    "\n"
   ]
  },
  {
   "cell_type": "code",
   "execution_count": null,
   "metadata": {},
   "outputs": [],
   "source": [
    "sb.heatmap(md.isnull(),cmap='viridis')#, yticklabels=False, cbar=False, cmap='viridis')\n",
    "\n",
    "sb.countplot(x='location', data=md)"
   ]
  },
  {
   "cell_type": "markdown",
   "metadata": {},
   "source": [
    "# Prepare the data for the model\n",
    "In this work, we test four binary classification DM models:\n",
    "* logistic regression (LR),\n",
    "* decision trees (DTs),\n",
    "* k-nearest neighbors (KNN),\n",
    "* neural network (NN), and\n",
    "* support vector machine (SVM).\n"
   ]
  },
  {
   "cell_type": "code",
   "execution_count": null,
   "metadata": {},
   "outputs": [],
   "source": [
    "print(md.columns)\n",
    "test_size = 0.2\n",
    "X = md.values[:,1:9]\n",
    "Y = md.values[:,9:]\n",
    "def the_train_test_split(X, test_ratio = 0.2):\n",
    "    if(test_ratio >= 1 or test_ratio <0):\n",
    "        test_ratio = 0.2\n",
    "    row, _ = X.shape\n",
    "    from math import floor\n",
    "    train_count = floor(row * (1-test_ratio)) \n",
    "    train = X[:train_count]\n",
    "    test = X[train_count:]\n",
    "    return train, test\n",
    "\n",
    "X_train, X_test = the_train_test_split(X, test_ratio = test_size)\n",
    "Y_train, Y_test = the_train_test_split(Y, test_ratio = test_size)\n",
    "#X_train, X_test = train_test_split(X, test_size=test_size, random_state=0)\n",
    "#Y_train, Y_test =   train_test_split(Y, test_size=test_size, random_state=0)\n",
    "print(Y_train.ravel()[:7])\n",
    "print(util.encode_multiclass(Y_train.ravel())[:7])"
   ]
  },
  {
   "cell_type": "markdown",
   "metadata": {},
   "source": [
    "## Training and Testing\n",
    "### Logistic Regression\n",
    "$\\mathbb{R}$\n",
    "$\\frac{a^2}{b_2^5}$"
   ]
  },
  {
   "cell_type": "code",
   "execution_count": null,
   "metadata": {},
   "outputs": [],
   "source": [
    "print(X_train[:6])\n",
    "print(Y_train[:7])\n"
   ]
  },
  {
   "cell_type": "code",
   "execution_count": null,
   "metadata": {},
   "outputs": [],
   "source": [
    "logistic_regressor = LogisticRegression(class_weight='balanced', penalty=\"none\")  #multi_class='multinomial', create object for the class\n",
    "Y_train = np.ravel(Y_train)\n",
    "\n",
    "print(type(Y_train))\n",
    "logistic_regressor.fit(X_train,Y_train)  # train the model"
   ]
  },
  {
   "cell_type": "code",
   "execution_count": null,
   "metadata": {},
   "outputs": [],
   "source": [
    "Y_pred = logistic_regressor.predict(X_test)  # make predictions\n",
    "\n",
    "print(accuracy_score(Y_test, Y_pred))\n",
    "print(classification_report(Y_test, Y_pred))  # evaluate the model\n"
   ]
  },
  {
   "cell_type": "markdown",
   "metadata": {},
   "source": [
    "### KNN\n"
   ]
  },
  {
   "cell_type": "code",
   "execution_count": null,
   "metadata": {},
   "outputs": [],
   "source": [
    "knc = KNeighborsClassifier(n_neighbors=13, metric=\"euclidean\")\n",
    "knc.fit(X_train, Y_train)\n",
    "\n",
    "nnc_y_pred = knc.predict(X_test)\n",
    "print(accuracy_score(Y_test, nnc_y_pred))\n",
    "print(classification_report(Y_test, nnc_y_pred))"
   ]
  },
  {
   "cell_type": "markdown",
   "metadata": {},
   "source": [
    "### Neural Network\n"
   ]
  },
  {
   "cell_type": "code",
   "execution_count": null,
   "metadata": {},
   "outputs": [],
   "source": [
    "nnc = MLPClassifier(hidden_layer_sizes=(100,100,100,100,100,), max_iter=10000, solver='sgd', random_state=1)\n",
    "\n",
    "nnc.fit(X_train, Y_train)\n"
   ]
  },
  {
   "cell_type": "code",
   "execution_count": null,
   "metadata": {},
   "outputs": [],
   "source": [
    "\n",
    "nnc_y_pred = nnc.predict(X_train)\n",
    "print(accuracy_score(Y_train, nnc_y_pred))\n",
    "print(classification_report(Y_train, nnc_y_pred, zero_division=1))\n"
   ]
  },
  {
   "cell_type": "markdown",
   "metadata": {},
   "source": [
    "### Support VECTOR MACHINES\n",
    "#### SVC\n"
   ]
  },
  {
   "cell_type": "code",
   "execution_count": null,
   "metadata": {},
   "outputs": [],
   "source": [
    "clf = svm.SVC(max_iter=100000)\n",
    "clf.fit(X_train, Y_train)"
   ]
  },
  {
   "cell_type": "code",
   "execution_count": null,
   "metadata": {},
   "outputs": [],
   "source": [
    "#print(clf.coef_)\n",
    "svc_y_pred = clf.predict(X_test)\n",
    "print(classification_report(Y_test, svc_y_pred))  # evaluate the model"
   ]
  },
  {
   "cell_type": "markdown",
   "metadata": {},
   "source": [
    "#### LinearSVC\n"
   ]
  },
  {
   "cell_type": "code",
   "execution_count": null,
   "metadata": {},
   "outputs": [],
   "source": [
    "clf = svm.LinearSVC(max_iter=100000, penalty=\"l2\", dual=False)\n",
    "clf.fit(X_train, Y_train)\n",
    "\n",
    "#print(clf.coef_)\n",
    "lsvc_y_pred = clf.predict(X_test)\n",
    "print(classification_report(Y_test, svc_y_pred))  # evaluate the model"
   ]
  },
  {
   "cell_type": "markdown",
   "metadata": {},
   "source": [
    "### DecisionTreeClassifier\n"
   ]
  },
  {
   "cell_type": "code",
   "execution_count": null,
   "metadata": {},
   "outputs": [],
   "source": [
    "dtc = tree.DecisionTreeClassifier(max_depth=10000)\n",
    "dtc.fit(X_train, Y_train)\n",
    "\n",
    "dtc_y_pred = clf.predict(X_test)\n",
    "print(classification_report(Y_test, svc_y_pred))  # evaluate the model"
   ]
  }
 ],
 "metadata": {
  "interpreter": {
   "hash": "f7e022b67859ae4a791bbcc1c75bde8b3a5bef3b9abb0060fdb4399d638fb2f6"
  },
  "kernelspec": {
   "display_name": "Python 3.9.12 64-bit",
   "language": "python",
   "name": "python3"
  },
  "language_info": {
   "codemirror_mode": {
    "name": "ipython",
    "version": 3
   },
   "file_extension": ".py",
   "mimetype": "text/x-python",
   "name": "python",
   "nbconvert_exporter": "python",
   "pygments_lexer": "ipython3",
   "version": "3.9.12"
  },
  "orig_nbformat": 4
 },
 "nbformat": 4,
 "nbformat_minor": 2
}

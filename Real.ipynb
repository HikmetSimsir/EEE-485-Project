{
 "cells": [
  {
   "cell_type": "markdown",
   "metadata": {
    "collapsed": false,
    "pycharm": {
     "name": "#%% md\n"
    }
   },
   "source": []
  },
  {
   "cell_type": "markdown",
   "metadata": {
    "collapsed": false,
    "pycharm": {
     "name": "#%% md\n"
    }
   },
   "source": [
    "# Neural Network (MLP) Algorithm for Yeast Data\n",
    "## Import libraries"
   ]
  },
  {
   "cell_type": "code",
   "execution_count": null,
   "metadata": {
    "collapsed": false,
    "pycharm": {
     "name": "#%%\n"
    }
   },
   "outputs": [],
   "source": [
    "#import matplotlib.pyplot as plt\n",
    "\n",
    "import numpy as np\n",
    "import pandas as pd\n",
    "from math import floor #, ceil\n",
    "#from sklearn.metrics import classification_report\n",
    "#from sklearn.metrics import confusion_matrix\n",
    "from sklearn.metrics import ConfusionMatrixDisplay\n",
    "import time"
   ]
  },
  {
   "cell_type": "markdown",
   "metadata": {
    "collapsed": false,
    "pycharm": {
     "name": "#%% md\n"
    }
   },
   "source": [
    "## Preparation of the Data\n",
    "### Define methods"
   ]
  },
  {
   "cell_type": "code",
   "execution_count": null,
   "metadata": {
    "collapsed": false,
    "pycharm": {
     "name": "#%%\n"
    }
   },
   "outputs": [],
   "source": [
    "def the_train_test_split(X, test_ratio = 0.2):\n",
    "    if(test_ratio >= 1 or test_ratio <0):\n",
    "        test_ratio = 0.2\n",
    "    row, _ = X.shape\n",
    "    train_count = floor(row * (1-test_ratio))\n",
    "    train = X[:train_count]\n",
    "    test = X[train_count:]\n",
    "    return train, test"
   ]
  },
  {
   "cell_type": "markdown",
   "metadata": {
    "collapsed": false,
    "pycharm": {
     "name": "#%% md\n"
    }
   },
   "source": [
    "### Read Data"
   ]
  },
  {
   "cell_type": "code",
   "execution_count": null,
   "metadata": {
    "collapsed": false,
    "pycharm": {
     "name": "#%%\n"
    }
   },
   "outputs": [],
   "source": [
    "file_name = \"yeast.csv\"\n",
    "md = pd.read_csv(file_name)\n",
    "\n",
    "# md.dropna(inplace = True)\n",
    "# md.replace('unknown', 0, inplace = True)\n",
    "md.head()"
   ]
  },
  {
   "cell_type": "markdown",
   "metadata": {
    "collapsed": false,
    "pycharm": {
     "name": "#%% md\n"
    }
   },
   "source": [
    "## Prepare the data\n",
    "* Shuffle the data\n",
    "* Separate the input and output variables\n",
    "* Seperate the data into training and test sets\n",
    "* Normalize the data\n"
   ]
  },
  {
   "cell_type": "code",
   "execution_count": null,
   "metadata": {
    "collapsed": false,
    "pycharm": {
     "name": "#%%\n"
    }
   },
   "outputs": [],
   "source": [
    "gl = {}"
   ]
  },
  {
   "cell_type": "code",
   "execution_count": 111,
   "metadata": {
    "collapsed": false,
    "pycharm": {
     "name": "#%%\n"
    }
   },
   "outputs": [],
   "source": [
    "\n",
    "# Shuffle the data to get more fair representative\n",
    "md.reindex(np.random.permutation(md.index))\n",
    "\n",
    "test_ratio = 0.2\n",
    "X = md.values[:,1:9]\n",
    "Y = md.values[:,9:]\n",
    "cat = pd.unique(Y[:,0])"
   ]
  },
  {
   "cell_type": "code",
   "execution_count": 112,
   "metadata": {
    "collapsed": false,
    "pycharm": {
     "name": "#%%\n"
    }
   },
   "outputs": [],
   "source": [
    "for i in range(X.shape[1]):\n",
    "    X[:,i] = (X[:,i] - X[:,i].mean())/X[:,i].std()\n",
    "\n",
    "\n",
    "#\n",
    "y = np.zeros((len(Y), 10))\n",
    "for i in range(len(Y)):\n",
    "    for j in range(10):\n",
    "        if cat[j] == Y[i]:\n",
    "            y[i][j] = 1\n",
    "        else:\n",
    "            y[i][j] = 0"
   ]
  },
  {
   "cell_type": "code",
   "execution_count": 113,
   "metadata": {
    "collapsed": false,
    "pycharm": {
     "name": "#%%\n"
    }
   },
   "outputs": [],
   "source": [
    "X_train, X_test = the_train_test_split(X.astype(\"float64\"), test_ratio = test_ratio)\n",
    "Y_train, Y_test = the_train_test_split(y.astype(\"float64\"), test_ratio = test_ratio)"
   ]
  },
  {
   "cell_type": "code",
   "execution_count": null,
   "metadata": {
    "collapsed": false,
    "pycharm": {
     "name": "#%%\n"
    }
   },
   "outputs": [],
   "source": [
    "class Neural_Network():\n",
    "    def __init__(self, dimension=None, epochs=100, learning_rate=0.001, act_func =\"sigmoid\"):\n",
    "        if dimension is None:\n",
    "            dimension = [100, 100]\n",
    "        self.dim = dimension\n",
    "        self.ep = epochs\n",
    "        self.lr = learning_rate\n",
    "        # weight 0: input to 1st hidden\n",
    "        # weight 1:  1st hidden to  2nd hidden\n",
    "        # weight len(dim): last hidden to output\n",
    "        # in total 1+len(dim) weight matrices\n",
    "        self.weights = {} # they will be defined when the input and output are given\n",
    "\n",
    "        # actv 0: fired from input layer\n",
    "        # actv 1: fired from 1st layer\n",
    "        # actv 1+len(dim): fired from output layer\n",
    "        self.actv = {} # activation outputs\n",
    "        # z 0: input to 1st hidden\n",
    "        # z 1:  1st hidden to  2nd hidden\n",
    "        # z len(dim): last hidden to output\n",
    "        # in total 1+len(dim) weight matrices\n",
    "        self.z = {} # middle values: inputs to next layers\n",
    "    def forward(self, x):\n",
    "        self.actv[0] = x\n",
    "        for i in range(len(self.dim)+1):\n",
    "            #print(\"forward actv[\",i,\"] : \",self.actv[i])\n",
    "            # bias term is added to each row with broadcasting\n",
    "            self.z[i] = self.bias_w[i] + np.dot(self.weights[i], self.actv[i])\n",
    "            #print(\"forward z[\",i,\"] : \",self.z[i])\n",
    "\n",
    "            if i == len(self.dim):\n",
    "                self.actv[i+1] = self.actFunc(self.z[i], \"soft\" )\n",
    "            else:\n",
    "                self.actv[i+1] = self.actFunc(self.z[i], \"sigm\" )\n",
    "            #print(\"forward actv[\",i+1,\"] : \",self.actv[i+1], \"#\")\n",
    "        return self.actv[1+len(self.dim)]\n",
    "\n",
    "    def actFunc(self, t, type=\"sigm\"):\n",
    "        if type == \"sigm\":\n",
    "            return self.sigm(t)\n",
    "        elif type==\"sigm-d\":\n",
    "            return self.sigm(t,True)\n",
    "        elif type==\"soft\":\n",
    "            return self.softmax(t)\n",
    "        else:\n",
    "            return self.sigm(t)\n",
    "\n",
    "    def sigm(self, x, derivative=False):\n",
    "        # todo improve efficiency: e_x = np.exp(-x)\n",
    "        if derivative:\n",
    "            return (np.exp(-x))/((np.exp(-x)+1)**2)\n",
    "        return 1/(1 + np.exp(-x))\n",
    "\n",
    "    def softmax(self, x):\n",
    "        exps = np.exp(x - x.max())\n",
    "        return exps / np.sum(exps, axis=0)\n",
    "\n",
    "    def back_prop(self, y_exp, y_pred):\n",
    "        err = y_pred-y_exp\n",
    "        w_chng = {}\n",
    "        dimlen = len(self.dim)\n",
    "        # calculate the update for the last weights\n",
    "        w_chng[dimlen]= np.multiply(err, self.actv[1+dimlen])\n",
    "        # calculate changes backwardly\n",
    "        for i in range(dimlen):\n",
    "            # e.g. the 1st weights (i.e. w[0])\n",
    "            # will be updated when i := dimlen-1\n",
    "            # so that err depends on w[1], previous err and z[0]\n",
    "            # and change depends on a[1]\n",
    "            #print( \"err: \", err.shape, \" ; sw.shape: \",self.weights[dimlen-i].T.shape,\" ; act.shape: \",self.actFunc(self.z[dimlen-i-1], \"sigm-d\").shape, \"; actv: \", self.actv[dimlen-i].shape )\n",
    "            err = np.multiply( np.dot(self.weights[dimlen-i].T, err), self.actFunc(self.z[dimlen-i-1], \"sigm-d\"))\n",
    "            w_chng[dimlen-i-1] = np.multiply(err, self.actv[dimlen-i])\n",
    "        #print(\"w_chng: \", type(w_chng), \" : \", w_chng)\n",
    "        return w_chng\n",
    "\n",
    "    def update_weights(self, w_changes):\n",
    "        # why calling items() https://stackoverflow.com/a/62173039/13555389\n",
    "        global gl\n",
    "        gl[\"w_changes\"] = w_changes\n",
    "        gl['wc'] = {}\n",
    "        for i, chng in w_changes.items():\n",
    "            #print(\"uw i=\",i, \" chng \", chng, \" shp: \", self.weights[i].T.shape)\n",
    "            #print(\"BEF: \", self.weights[i].T)\n",
    "            for k in range( len(self.weights[i].T)):\n",
    "                self.weights[i].T[k] = self.weights[i].T[k] -    self.lr*chng\n",
    "            #print(\"AFT: \", self.weights[i].T)\n",
    "\n",
    "            #w_mtrx = w_mtrx - self.lr*chng\n",
    "\n",
    "    # THE FOLLOWING FUNCTION IS COPIED IN VERBATIM\n",
    "    def get_accuracy(self, x_val, y_val):\n",
    "        self.pred_indices = np.empty([y_val.shape[0], 2], \"int\" )\n",
    "        #print(\"p_i shape:\",self.pred_indices.shape)\n",
    "        global gl\n",
    "        predictions = []\n",
    "        i = 0\n",
    "        for x, y in zip(x_val, y_val):\n",
    "            output = self.forward(x)\n",
    "            pred = np.argmax(output)\n",
    "            exp = np.argmax(y)\n",
    "            self.pred_indices[i][0], self.pred_indices[i][1]= pred, exp\n",
    "            #print(output, \" : \", pred, \" :: \", y, \" : \", exp)\n",
    "            predictions.append(pred == exp)\n",
    "            i = i+1\n",
    "\n",
    "        #summed = sum(pred for pred in predictions) / 100.0\n",
    "\n",
    "        gl['p'] = predictions\n",
    "        gl['p_i'] = self.pred_indices\n",
    "        return sum(pred for pred in gl['p'])/len(gl['p'])#np.average(summed)\n",
    "\n",
    "    def train(self, x_train, y_train, x_test, y_test):\n",
    "        # initialize weights! etc.!\n",
    "        # we seperate 1st and last because they depend on the size of x_train and y_train, respectively!\n",
    "        # weights from input to 1st hidden\n",
    "        self.weights[0] = np.random.randn(self.dim[0], x_train.shape[1]) * np.sqrt(1. / self.dim[0])\n",
    "        # set default weights to middle layer weights if there any\n",
    "        dimlen = len(self.dim)\n",
    "        for i in range(dimlen - 1):\n",
    "            self.weights[i+1] = np.random.randn(self.dim[i+1], self.dim[i]) * np.sqrt(1. / self.dim[i+1])\n",
    "            #print(\"train: \" ,i+1, type( self.weights[i+1]))\n",
    "        # last weights\n",
    "        self.weights[dimlen] = np.random.randn(y_train.shape[1], self.dim[dimlen-1]) * np.sqrt(1. / y_train.shape[1])\n",
    "        #print(\"train: \" ,dimlen, type( self.weights[dimlen]))\n",
    "        # one bias term for each layer\n",
    "        self.bias_w = np.ones(1+dimlen) #np.random.randn(1+dimlen)\n",
    "\n",
    "    # train them all\n",
    "        start_time = time.time()\n",
    "        print(\"Started training!\")\n",
    "        for iteration in range(self.ep):\n",
    "            for x,y in zip(x_train, y_train):\n",
    "                output = self.forward(x)\n",
    "                changes_to_w = self.back_prop(y, output)\n",
    "                #print(\"x: \", x, \"y: \", y, \"o: \", np.argmax(output), \" \", output, \" /\\=\", changes_to_w)\n",
    "                self.update_weights(changes_to_w)\n",
    "\n",
    "            accuracy = self.get_accuracy(x_test, y_test)\n",
    "            #if iteration % 10 == 9:\n",
    "            print('{0}th epoch, {1:.2f} seconds wasted so far, for merely {2}  accuracy'.format(\n",
    "                iteration+1, time.time() - start_time, accuracy))\n"
   ]
  },
  {
   "cell_type": "code",
   "execution_count": null,
   "metadata": {
    "collapsed": false,
    "pycharm": {
     "name": "#%%\n"
    }
   },
   "outputs": [],
   "source": [
    "xor_x= np.array([ [0, 0],\n",
    "     [1, 0],\n",
    "     [0, 1],\n",
    "     [1, 1]\n",
    "     ])\n",
    "#xor_y =np.array( [ [0], [1], [1],[0]])\n",
    "xor_y =np.array( [ [1, 0], [0,1], [0,1],[1,0]])\n",
    "\n",
    "dnn = Neural_Network(dimension=[ 3 ], epochs=10000, learning_rate=1)\n",
    "dnn.train(xor_x, xor_y, xor_x, xor_y)\n"
   ]
  },
  {
   "cell_type": "code",
   "execution_count": null,
   "metadata": {
    "collapsed": false,
    "pycharm": {
     "name": "#%%\n"
    }
   },
   "outputs": [],
   "source": [
    "dnn.bias_w\n"
   ]
  },
  {
   "cell_type": "code",
   "execution_count": null,
   "metadata": {
    "collapsed": false,
    "pycharm": {
     "name": "#%%\n"
    }
   },
   "outputs": [],
   "source": [
    "print(sum(pred for pred in gl['p']) )\n",
    "print(len(gl['p']))\n",
    "print(sum(pred for pred in gl['p'])/len(gl['p']))\n",
    "summed = sum(pred for pred in gl['p']) / 100.0"
   ]
  },
  {
   "cell_type": "code",
   "execution_count": 110,
   "metadata": {
    "collapsed": false,
    "pycharm": {
     "name": "#%%\n"
    }
   },
   "outputs": [
    {
     "name": "stdout",
     "output_type": "stream",
     "text": [
      "Started training!\n",
      "1th epoch, 0.45 seconds wasted so far, for merely 0.3434343434343434  accuracy\n",
      "2th epoch, 0.96 seconds wasted so far, for merely 0.3434343434343434  accuracy\n",
      "3th epoch, 1.58 seconds wasted so far, for merely 0.3400673400673401  accuracy\n",
      "4th epoch, 2.04 seconds wasted so far, for merely 0.3367003367003367  accuracy\n",
      "5th epoch, 2.46 seconds wasted so far, for merely 0.32996632996632996  accuracy\n",
      "6th epoch, 2.87 seconds wasted so far, for merely 0.31986531986531985  accuracy\n"
     ]
    },
    {
     "ename": "KeyboardInterrupt",
     "evalue": "",
     "output_type": "error",
     "traceback": [
      "\u001B[1;31m---------------------------------------------------------------------------\u001B[0m",
      "\u001B[1;31mKeyboardInterrupt\u001B[0m                         Traceback (most recent call last)",
      "Input \u001B[1;32mIn [110]\u001B[0m, in \u001B[0;36m<module>\u001B[1;34m\u001B[0m\n\u001B[0;32m      1\u001B[0m dnn \u001B[38;5;241m=\u001B[39m Neural_Network(dimension\u001B[38;5;241m=\u001B[39m[ \u001B[38;5;241m15\u001B[39m, \u001B[38;5;241m20\u001B[39m ], epochs\u001B[38;5;241m=\u001B[39m\u001B[38;5;241m1000\u001B[39m, learning_rate\u001B[38;5;241m=\u001B[39m\u001B[38;5;241m0.1\u001B[39m)\n\u001B[1;32m----> 2\u001B[0m \u001B[43mdnn\u001B[49m\u001B[38;5;241;43m.\u001B[39;49m\u001B[43mtrain\u001B[49m\u001B[43m(\u001B[49m\u001B[43mX_train\u001B[49m\u001B[43m,\u001B[49m\u001B[43m \u001B[49m\u001B[43mY_train\u001B[49m\u001B[43m,\u001B[49m\u001B[43m \u001B[49m\u001B[43mX_test\u001B[49m\u001B[43m,\u001B[49m\u001B[43m \u001B[49m\u001B[43mY_test\u001B[49m\u001B[43m)\u001B[49m\n",
      "Input \u001B[1;32mIn [104]\u001B[0m, in \u001B[0;36mNeural_Network.train\u001B[1;34m(self, x_train, y_train, x_test, y_test)\u001B[0m\n\u001B[0;32m    134\u001B[0m     changes_to_w \u001B[38;5;241m=\u001B[39m \u001B[38;5;28mself\u001B[39m\u001B[38;5;241m.\u001B[39mback_prop(y, output)\n\u001B[0;32m    135\u001B[0m     \u001B[38;5;66;03m#print(\"x: \", x, \"y: \", y, \"o: \", np.argmax(output), \" \", output, \" /\\=\", changes_to_w)\u001B[39;00m\n\u001B[1;32m--> 136\u001B[0m     \u001B[38;5;28;43mself\u001B[39;49m\u001B[38;5;241;43m.\u001B[39;49m\u001B[43mupdate_weights\u001B[49m\u001B[43m(\u001B[49m\u001B[43mchanges_to_w\u001B[49m\u001B[43m)\u001B[49m\n\u001B[0;32m    138\u001B[0m accuracy \u001B[38;5;241m=\u001B[39m \u001B[38;5;28mself\u001B[39m\u001B[38;5;241m.\u001B[39mget_accuracy(x_test, y_test)\n\u001B[0;32m    139\u001B[0m \u001B[38;5;66;03m#if iteration % 10 == 9:\u001B[39;00m\n",
      "Input \u001B[1;32mIn [104]\u001B[0m, in \u001B[0;36mNeural_Network.update_weights\u001B[1;34m(self, w_changes)\u001B[0m\n\u001B[0;32m     81\u001B[0m \u001B[38;5;28;01mfor\u001B[39;00m i, chng \u001B[38;5;129;01min\u001B[39;00m w_changes\u001B[38;5;241m.\u001B[39mitems():\n\u001B[0;32m     82\u001B[0m     \u001B[38;5;66;03m#print(\"uw i=\",i, \" chng \", chng, \" shp: \", self.weights[i].T.shape)\u001B[39;00m\n\u001B[0;32m     83\u001B[0m     \u001B[38;5;66;03m#print(\"BEF: \", self.weights[i].T)\u001B[39;00m\n\u001B[0;32m     84\u001B[0m     \u001B[38;5;28;01mfor\u001B[39;00m k \u001B[38;5;129;01min\u001B[39;00m \u001B[38;5;28mrange\u001B[39m( \u001B[38;5;28mlen\u001B[39m(\u001B[38;5;28mself\u001B[39m\u001B[38;5;241m.\u001B[39mweights[i]\u001B[38;5;241m.\u001B[39mT)):\n\u001B[1;32m---> 85\u001B[0m         \u001B[38;5;28mself\u001B[39m\u001B[38;5;241m.\u001B[39mweights[i]\u001B[38;5;241m.\u001B[39mT[k] \u001B[38;5;241m=\u001B[39m \u001B[38;5;28mself\u001B[39m\u001B[38;5;241m.\u001B[39mweights[i]\u001B[38;5;241m.\u001B[39mT[k] \u001B[38;5;241m-\u001B[39m    \u001B[38;5;28mself\u001B[39m\u001B[38;5;241m.\u001B[39mlr\u001B[38;5;241m*\u001B[39mchng\n",
      "\u001B[1;31mKeyboardInterrupt\u001B[0m: "
     ]
    }
   ],
   "source": [
    "\n",
    "dnn = Neural_Network(dimension=[ 15, 20 ], epochs=1000, learning_rate=0.1)\n",
    "dnn.train(X_train, Y_train, X_test, Y_test)"
   ]
  },
  {
   "cell_type": "code",
   "execution_count": null,
   "metadata": {
    "collapsed": false,
    "pycharm": {
     "name": "#%%\n"
    }
   },
   "outputs": [],
   "source": [
    "#print(gl)\n",
    "for i, j in gl[\"w_changes\"].items():\n",
    "    print(\"i: \", i, \", j: \", j)\n",
    "\n",
    "gl['wc']"
   ]
  },
  {
   "cell_type": "code",
   "execution_count": 114,
   "metadata": {
    "collapsed": false,
    "pycharm": {
     "name": "#%%\n"
    }
   },
   "outputs": [
    {
     "name": "stdout",
     "output_type": "stream",
     "text": [
      "0.3434343434343434\n",
      "['ME3' 'EXC' 'NUC' 'ME3' 'ME3' 'CYT' 'ME3' 'CYT' 'ME1' 'CYT' 'NUC' 'ME3'\n",
      " 'MIT' 'MIT' 'NUC' 'ME3' 'NUC' 'CYT' 'VAC' 'NUC' 'EXC' 'EXC' 'EXC' 'NUC'\n",
      " 'CYT' 'CYT' 'CYT' 'ME3' 'CYT' 'CYT' 'CYT' 'CYT' 'MIT' 'NUC' 'NUC' 'NUC'\n",
      " 'NUC' 'NUC' 'ME1' 'ME3' 'CYT' 'ME3' 'NUC' 'CYT' 'CYT' 'CYT' 'CYT' 'CYT'\n",
      " 'CYT' 'CYT' 'CYT' 'CYT' 'CYT' 'NUC' 'NUC' 'CYT' 'CYT' 'CYT' 'CYT' 'NUC'\n",
      " 'NUC' 'NUC' 'NUC' 'NUC' 'NUC' 'NUC' 'CYT' 'CYT' 'CYT' 'CYT' 'CYT' 'CYT'\n",
      " 'CYT' 'CYT' 'CYT' 'CYT' 'CYT' 'CYT' 'ME1' 'CYT' 'ME1' 'ME1' 'CYT' 'CYT'\n",
      " 'NUC' 'NUC' 'NUC' 'NUC' 'NUC' 'NUC' 'VAC' 'CYT' 'CYT' 'CYT' 'CYT' 'CYT'\n",
      " 'CYT' 'CYT' 'CYT' 'CYT' 'ME3' 'ME3' 'NUC' 'MIT' 'CYT' 'CYT' 'CYT' 'CYT'\n",
      " 'CYT' 'CYT' 'CYT' 'NUC' 'ME2' 'CYT' 'CYT' 'CYT' 'CYT' 'MIT' 'NUC' 'NUC'\n",
      " 'CYT' 'CYT' 'CYT' 'CYT' 'CYT' 'ME3' 'CYT' 'CYT' 'CYT' 'CYT' 'CYT' 'CYT'\n",
      " 'NUC' 'ME3' 'NUC' 'NUC' 'NUC' 'CYT' 'NUC' 'CYT' 'CYT' 'CYT' 'ME3' 'NUC'\n",
      " 'VAC' 'MIT' 'CYT' 'VAC' 'VAC' 'VAC' 'VAC' 'VAC' 'VAC' 'VAC' 'VAC' 'VAC'\n",
      " 'VAC' 'VAC' 'CYT' 'CYT' 'CYT' 'CYT' 'CYT' 'CYT' 'VAC' 'CYT' 'CYT' 'ME1'\n",
      " 'NUC' 'ME1' 'MIT' 'ME1' 'NUC' 'ME3' 'ME3' 'NUC' 'ME1' 'ME2' 'ME3' 'NUC'\n",
      " 'CYT' 'CYT' 'ME1' 'ME3' 'ME3' 'MIT' 'MIT' 'NUC' 'ME3' 'NUC' 'ME3' 'CYT'\n",
      " 'MIT' 'ME3' 'ME3' 'NUC' 'ME3' 'NUC' 'ME3' 'ME1' 'NUC' 'POX' 'POX' 'ME3'\n",
      " 'MIT' 'ME3' 'ME1' 'ME3' 'ME2' 'CYT' 'MIT' 'ME3' 'ME1' 'ME3' 'ME3' 'ME3'\n",
      " 'ME2' 'MIT' 'ME3' 'ME3' 'ME3' 'ME1' 'NUC' 'EXC' 'ME3' 'NUC' 'ME3' 'CYT'\n",
      " 'CYT' 'ME3' 'ME3' 'NUC' 'ME3' 'EXC' 'ME3' 'NUC' 'ME1' 'ME3' 'NUC' 'ME3'\n",
      " 'ME3' 'ME3' 'ME3' 'ME3' 'ME3' 'ME1' 'ME3' 'ME2' 'NUC' 'ME1' 'ME1' 'ME3'\n",
      " 'ME2' 'ME3' 'NUC' 'POX' 'ME1' 'MIT' 'ME3' 'CYT' 'NUC' 'NUC' 'MIT' 'ME1'\n",
      " 'NUC' 'NUC' 'ME3' 'NUC' 'NUC' 'ME1' 'CYT' 'MIT' 'CYT' 'MIT' 'POX' 'MIT'\n",
      " 'NUC' 'NUC' 'NUC' 'ME3' 'CYT' 'MIT' 'MIT' 'MIT' 'MIT' 'NUC' 'CYT' 'CYT'\n",
      " 'CYT' 'CYT' 'CYT' 'CYT' 'ME2' 'NUC' 'ME2' 'NUC' 'CYT']\n",
      "['CYT' 'CYT' 'CYT' 'CYT' 'CYT' 'CYT' 'CYT' 'CYT' 'CYT' 'CYT' 'CYT' 'CYT'\n",
      " 'CYT' 'CYT' 'CYT' 'CYT' 'CYT' 'CYT' 'CYT' 'CYT' 'CYT' 'CYT' 'CYT' 'CYT'\n",
      " 'CYT' 'CYT' 'CYT' 'CYT' 'CYT' 'CYT' 'CYT' 'CYT' 'CYT' 'CYT' 'CYT' 'CYT'\n",
      " 'CYT' 'CYT' 'CYT' 'CYT' 'CYT' 'CYT' 'CYT' 'CYT' 'CYT' 'CYT' 'CYT' 'CYT'\n",
      " 'CYT' 'CYT' 'CYT' 'CYT' 'CYT' 'CYT' 'CYT' 'CYT' 'CYT' 'CYT' 'CYT' 'CYT'\n",
      " 'CYT' 'CYT' 'CYT' 'CYT' 'CYT' 'CYT' 'CYT' 'CYT' 'CYT' 'CYT' 'CYT' 'CYT'\n",
      " 'CYT' 'CYT' 'CYT' 'CYT' 'CYT' 'CYT' 'CYT' 'CYT' 'CYT' 'CYT' 'CYT' 'CYT'\n",
      " 'CYT' 'CYT' 'CYT' 'CYT' 'CYT' 'CYT' 'CYT' 'CYT' 'CYT' 'CYT' 'CYT' 'CYT'\n",
      " 'CYT' 'CYT' 'CYT' 'CYT' 'CYT' 'CYT' 'CYT' 'CYT' 'CYT' 'CYT' 'CYT' 'CYT'\n",
      " 'CYT' 'CYT' 'CYT' 'CYT' 'CYT' 'CYT' 'CYT' 'CYT' 'CYT' 'CYT' 'CYT' 'CYT'\n",
      " 'CYT' 'CYT' 'CYT' 'CYT' 'CYT' 'CYT' 'CYT' 'CYT' 'CYT' 'CYT' 'CYT' 'CYT'\n",
      " 'CYT' 'CYT' 'CYT' 'CYT' 'CYT' 'CYT' 'CYT' 'CYT' 'CYT' 'CYT' 'CYT' 'CYT'\n",
      " 'CYT' 'CYT' 'CYT' 'CYT' 'CYT' 'CYT' 'CYT' 'CYT' 'CYT' 'CYT' 'CYT' 'CYT'\n",
      " 'CYT' 'CYT' 'CYT' 'CYT' 'CYT' 'CYT' 'CYT' 'CYT' 'CYT' 'CYT' 'CYT' 'CYT'\n",
      " 'CYT' 'CYT' 'CYT' 'CYT' 'CYT' 'CYT' 'CYT' 'CYT' 'CYT' 'CYT' 'CYT' 'CYT'\n",
      " 'CYT' 'CYT' 'CYT' 'CYT' 'CYT' 'CYT' 'CYT' 'CYT' 'CYT' 'CYT' 'CYT' 'CYT'\n",
      " 'CYT' 'CYT' 'CYT' 'CYT' 'CYT' 'CYT' 'CYT' 'CYT' 'CYT' 'CYT' 'CYT' 'CYT'\n",
      " 'CYT' 'CYT' 'CYT' 'CYT' 'CYT' 'CYT' 'CYT' 'CYT' 'CYT' 'CYT' 'CYT' 'CYT'\n",
      " 'CYT' 'CYT' 'CYT' 'CYT' 'CYT' 'CYT' 'CYT' 'CYT' 'CYT' 'CYT' 'CYT' 'CYT'\n",
      " 'CYT' 'CYT' 'CYT' 'CYT' 'CYT' 'CYT' 'CYT' 'CYT' 'CYT' 'CYT' 'CYT' 'CYT'\n",
      " 'CYT' 'CYT' 'CYT' 'CYT' 'CYT' 'CYT' 'CYT' 'CYT' 'CYT' 'CYT' 'CYT' 'CYT'\n",
      " 'CYT' 'CYT' 'CYT' 'CYT' 'CYT' 'CYT' 'CYT' 'CYT' 'CYT' 'CYT' 'CYT' 'CYT'\n",
      " 'CYT' 'CYT' 'CYT' 'CYT' 'CYT' 'CYT' 'CYT' 'CYT' 'CYT' 'CYT' 'CYT' 'CYT'\n",
      " 'CYT' 'CYT' 'CYT' 'CYT' 'CYT' 'CYT' 'CYT' 'CYT' 'CYT' 'CYT' 'CYT' 'CYT'\n",
      " 'CYT' 'CYT' 'CYT' 'CYT' 'CYT' 'CYT' 'CYT' 'CYT' 'CYT']\n"
     ]
    },
    {
     "data": {
      "text/plain": "<sklearn.metrics._plot.confusion_matrix.ConfusionMatrixDisplay at 0x2acfa7f1940>"
     },
     "execution_count": 114,
     "metadata": {},
     "output_type": "execute_result"
    },
    {
     "data": {
      "text/plain": "<Figure size 432x288 with 2 Axes>",
      "image/png": "[encoded data removed]"
     },
     "metadata": {
      "needs_background": "light"
     },
     "output_type": "display_data"
    }
   ],
   "source": [
    "# test accuracy\n",
    "print(dnn.get_accuracy(X_test, Y_test))\n",
    "pred_class = cat[gl['p_i'][:,0]]\n",
    "exp_class = cat[gl['p_i'][:,1]]\n",
    "print(exp_class)\n",
    "print(pred_class)\n",
    "ConfusionMatrixDisplay.from_predictions(exp_class, pred_class)\n"
   ]
  },
  {
   "cell_type": "code",
   "execution_count": 115,
   "metadata": {
    "pycharm": {
     "name": "#%%\n"
    }
   },
   "outputs": [
    {
     "name": "stdout",
     "output_type": "stream",
     "text": [
      "0.3041280539174389\n",
      "297\n",
      "['MIT' 'MIT' 'MIT' ... 'ME3' 'EXC' 'ME3']\n",
      "['CYT' 'CYT' 'CYT' ... 'CYT' 'CYT' 'CYT']\n"
     ]
    },
    {
     "data": {
      "text/plain": "<sklearn.metrics._plot.confusion_matrix.ConfusionMatrixDisplay at 0x2acfb0dd520>"
     },
     "execution_count": 115,
     "metadata": {},
     "output_type": "execute_result"
    },
    {
     "data": {
      "text/plain": "<Figure size 432x288 with 2 Axes>",
      "image/png": "[encoded data removed]"
     },
     "metadata": {
      "needs_background": "light"
     },
     "output_type": "display_data"
    }
   ],
   "source": [
    "# training accuracy\n",
    "print(dnn.get_accuracy(X_train, Y_train))\n",
    "print(Y_test.shape[0])\n",
    "pred_class = cat[gl['p_i'][:,0]]\n",
    "exp_class = cat[gl['p_i'][:,1]]\n",
    "print(exp_class)\n",
    "print(pred_class)\n",
    "ConfusionMatrixDisplay.from_predictions(exp_class, pred_class)\n"
   ]
  },
  {
   "cell_type": "code",
   "execution_count": null,
   "metadata": {
    "collapsed": false,
    "pycharm": {
     "name": "#%%\n"
    }
   },
   "outputs": [],
   "source": [
    "for i in range (3):\n",
    "    print(\"type z[\",i,\"] : \", type(dnn.z[i]))\n",
    "    print(\"shape z[\",i,\"] : \",dnn.z[i].shape)\n",
    "    #print(\"forward z[\",i,\"] : \",dnn.z[i])\n",
    "    print(\"\")\n",
    "    print(\"type actv[\",i,\"] : \", type(dnn.actv[i]))\n",
    "    print(\"shape actv[\",i,\"] : \",dnn.actv[i].shape)\n",
    "    #print(\"forward actv[\",i,\"] : \",dnn.actv[i])\n",
    "    print(\"\")\n",
    "\n",
    "    print(\"type weights[\",i,\"] : \", type(dnn.weights[i]))\n",
    "    print(\"shape weights[\",i,\"] : \",dnn.weights[i].shape)\n",
    "    #print(\"forward weights[\",i,\"] : \",dnn.weights[i])\n",
    "    print(\"-----------------\\n\")\n",
    "\n",
    "i = 3\n",
    "print(\"type actv[\",i,\"] : \", type(dnn.actv[i]))\n",
    "print(\"shape actv[\",i,\"] : \",dnn.actv[i].shape)\n",
    "print(\"forward actv[\",i,\"] : \",dnn.actv[i])\n",
    "print(\"\")"
   ]
  },
  {
   "cell_type": "code",
   "execution_count": null,
   "metadata": {
    "collapsed": false,
    "pycharm": {
     "name": "#%%\n"
    }
   },
   "outputs": [],
   "source": [
    "print(type(dnn.weights[0]) ) #, \", shape: \"dnn.weights[0].shape)\n",
    "print(type(dnn.weights[1]) ) #, \", shape: \"dnn.weights[1].shape)\n",
    "print(type(dnn.weights[2]) ) #, \", shape: \"dnn.weights[2].shape)"
   ]
  },
  {
   "cell_type": "code",
   "execution_count": null,
   "metadata": {
    "collapsed": false,
    "pycharm": {
     "name": "#%%\n"
    }
   },
   "outputs": [],
   "source": [
    "dnn.weights[0]"
   ]
  },
  {
   "cell_type": "code",
   "execution_count": null,
   "metadata": {
    "collapsed": false,
    "pycharm": {
     "name": "#%%\n"
    }
   },
   "outputs": [],
   "source": [
    "\n",
    "dnn.weights[1]"
   ]
  },
  {
   "cell_type": "code",
   "execution_count": null,
   "metadata": {
    "collapsed": false,
    "pycharm": {
     "name": "#%%\n"
    }
   },
   "outputs": [],
   "source": [
    "\n",
    "dnn.weights[2]"
   ]
  }
 ],
 "metadata": {
  "interpreter": {
   "hash": "0b647197a1fcc38d756609367937b3918f8af3cc96749ff11478d444b1db53c3"
  },
  "kernelspec": {
   "display_name": "Python 3.9.12 64-bit (windows store)",
   "language": "python",
   "name": "python3"
  },
  "language_info": {
   "codemirror_mode": {
    "name": "ipython",
    "version": 3
   },
   "file_extension": ".py",
   "mimetype": "text/x-python",
   "name": "python",
   "nbconvert_exporter": "python",
   "pygments_lexer": "ipython3",
   "version": "3.9.12"
  }
 },
 "nbformat": 4,
 "nbformat_minor": 0
}
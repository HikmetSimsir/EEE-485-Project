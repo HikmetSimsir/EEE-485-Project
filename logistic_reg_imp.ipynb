{
 "cells": [
  {
   "cell_type": "code",
   "execution_count": null,
   "metadata": {},
   "outputs": [],
   "source": [
    "\n",
    "# from sklearn import tree\n",
    "import pandas as pd\n",
    "import numpy as np\n"
   ]
  },
  {
   "cell_type": "code",
   "execution_count": null,
   "metadata": {},
   "outputs": [],
   "source": [
    "def normalize(X):\n",
    "    for i in range(X.shape[1]):\n",
    "        X[:,i] = (X[:,i] - X[:,i].mean())/X[:,i].std()\n",
    "    return X"
   ]
  },
  {
   "cell_type": "code",
   "execution_count": null,
   "metadata": {},
   "outputs": [],
   "source": [
    "k = 10\n",
    "p = 8\n",
    "def get_data():\n",
    "    \"\"\"\n",
    "    Returns the data from the xlsx file\n",
    "    \"\"\"\n",
    "    file_name = 'yeast.csv' \n",
    "    df = pd.read_csv(file_name, index_col=0, header=None)\n",
    "    # print(df.head()) # print the first 5 rows\n",
    "    return df\n",
    "\n",
    "md = get_data()\n",
    "md.dropna(inplace = True)\n",
    "print(md.shape)\n",
    "md.replace('?', 0, inplace = True)\n",
    "\n",
    "print(md)"
   ]
  },
  {
   "cell_type": "code",
   "execution_count": null,
   "metadata": {},
   "outputs": [],
   "source": [
    "X = md.iloc[:, 0:8].values.reshape(-1, 8)\n",
    "\n",
    "\n",
    "print(X)\n",
    "print(X.shape)\n",
    "# add 1 to the first column\n",
    "# X = np.insert(X, 0, 1, axis=1)\n",
    "# np.random.shuffle(X)\n",
    "\n",
    "print('X:', X)\n",
    "print(X.shape)\n",
    "\n",
    "X = normalize(X)\n",
    "print(X)\n",
    "\n",
    "M = X.shape[0]\n",
    "Y = md.iloc[:, 8:9].values.reshape(-1, 1)\n"
   ]
  },
  {
   "cell_type": "code",
   "execution_count": null,
   "metadata": {},
   "outputs": [],
   "source": [
    "def p(i):\n",
    "    return 1 / (1 + np.exp(-i))"
   ]
  },
  {
   "cell_type": "code",
   "execution_count": null,
   "metadata": {},
   "outputs": [],
   "source": [
    "outputs = ['CYT', 'NUC', 'MIT', 'ME3', 'ME2', 'ME1', 'EXC', 'VAC', 'POX', 'ERL']\n",
    "\n",
    "y = np.zeros((len(Y), 10))\n",
    "print(y.shape)\n",
    "\n",
    "for i in range(len(Y)):\n",
    "    for j in range(10):\n",
    "        if outputs[j] == Y[i]:\n",
    "            y[i][j] = 1\n",
    "        else:\n",
    "            y[i][j] = 0\n",
    "\n",
    "print('results', Y[0] == outputs[2])\n",
    "print(y.shape)\n",
    "# for i in range(10):\n",
    "#     print(outputs[i], ': ', y[i])"
   ]
  },
  {
   "cell_type": "code",
   "execution_count": null,
   "metadata": {},
   "outputs": [],
   "source": [
    "eta = 1\n",
    "beta = np.zeros((10, 8))\n",
    "\n",
    "for i in range(10):\n",
    "    beta[i] = np.random.rand(1, 8)\n",
    "\n",
    "print(beta)\n",
    "gradient = np.zeros((10, 8))\n",
    "trainNo = 1000\n",
    "loopCount = 1000\n",
    "\n",
    "n = 0\n",
    "while (True):\n",
    "    for i in range(trainNo):   \n",
    "        tmp = p(X[i] @ beta.T)\n",
    "        tmp = tmp - y[i]\n",
    "        for t in range(k):\n",
    "            gradient[t] = gradient[t] + tmp[t] * X[i]\n",
    "    gradient = gradient / trainNo\n",
    "    \n",
    "    \n",
    "    beta = beta - eta * gradient\n",
    "    print('g: ', gradient, 'norm', np.linalg.norm(gradient))\n",
    "\n",
    "    n = n + 1\n",
    "    if n == trainNo or np.linalg.norm(gradient) < 0.0097:\n",
    "        break\n",
    "    eta = eta * 0.99\n",
    "\n",
    "print('beta: ', beta)"
   ]
  },
  {
   "cell_type": "code",
   "execution_count": null,
   "metadata": {},
   "outputs": [],
   "source": [
    "# eta = 0.001\n",
    "# trainNo = 1200\n",
    "# beta = np.zeros((10, 9))\n",
    "# for t in range(10):\n",
    "#     for i in range(trainNo):\n",
    "#         # take one sample randomly\n",
    "#         # i = np.random.randint(0, trainNo)\n",
    "#         print(i)\n",
    "        \n",
    "#         # calculate the gradient\n",
    "#         for k in range(10):\n",
    "#             for j in range(9):\n",
    "#                 gradient[k][j] = (p(np.dot(X[i], beta[k])) - y[i][k]) * X[i][j]\n",
    "\n",
    "#         print('grad', gradient)\n",
    "\n",
    "#         # update beta\n",
    "#     for k in range (10):\n",
    "#         beta[k] = beta[k] - eta * gradient[k] / trainNo"
   ]
  },
  {
   "cell_type": "code",
   "execution_count": null,
   "metadata": {},
   "outputs": [],
   "source": [
    "# one or not classification\n",
    "y_pred = np.zeros(M - trainNo)\n",
    "estimates = np.zeros(10)\n",
    "\n",
    "for i in range(M - trainNo):\n",
    "    for t in range(10):\n",
    "        estimates[t] = p(np.dot(X[trainNo + i], beta[t]))\n",
    "    y_pred[i] = np.argmax(estimates)\n",
    "    # print(estimates)\n",
    "    # print(x_pred[i])\n",
    "print(y_pred)\n",
    "\n",
    "correct = 0\n",
    "for i in range(M - trainNo):\n",
    "    if np.where(y[trainNo + i] == 1) == y_pred[i]:\n",
    "        correct = correct + 1\n",
    "print(correct / (M - trainNo), (M - trainNo))\n"
   ]
  }
 ],
 "metadata": {
  "interpreter": {
   "hash": "f9ec9399770a17bbf0be3187b8c09b2d3c81bf49ccab5407e3aee235c2dd27d7"
  },
  "kernelspec": {
   "display_name": "Python 3.10.4 64-bit",
   "language": "python",
   "name": "python3"
  },
  "language_info": {
   "codemirror_mode": {
    "name": "ipython",
    "version": 3
   },
   "file_extension": ".py",
   "mimetype": "text/x-python",
   "name": "python",
   "nbconvert_exporter": "python",
   "pygments_lexer": "ipython3",
   "version": "3.9.12"
  },
  "orig_nbformat": 4
 },
 "nbformat": 4,
 "nbformat_minor": 2
}

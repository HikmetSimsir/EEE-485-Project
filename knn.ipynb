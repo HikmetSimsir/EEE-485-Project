{
 "cells": [
  {
   "cell_type": "markdown",
   "metadata": {},
   "source": [
    "# KNN Algorithm for Yeast Data\n"
   ]
  },
  {
   "cell_type": "code",
   "execution_count": 1,
   "metadata": {},
   "outputs": [],
   "source": [
    "import matplotlib.pyplot as plt\n",
    "\n",
    "import numpy as np\n",
    "import pandas as pd  \n",
    "from math import floor, ceil, sqrt\n",
    "from sklearn.metrics import classification_report\n",
    "from sklearn.metrics import confusion_matrix\n",
    "from sklearn.metrics import ConfusionMatrixDisplay\n"
   ]
  },
  {
   "cell_type": "code",
   "execution_count": 2,
   "metadata": {},
   "outputs": [],
   "source": [
    "def the_train_test_split(X, test_ratio = 0.2):\n",
    "    if(test_ratio >= 1 or test_ratio <0):\n",
    "        test_ratio = 0.2\n",
    "    row, _ = X.shape\n",
    "    train_count = floor(row * (1-test_ratio)) \n",
    "    train = X[:train_count]\n",
    "    test = X[train_count:]\n",
    "    return train, test"
   ]
  },
  {
   "cell_type": "code",
   "execution_count": 3,
   "metadata": {},
   "outputs": [],
   "source": [
    "def euclidean_distance(x,y):\n",
    "    return sqrt(sum(np.square(x-y)))\n",
    " \n",
    "def manhattan_distance(x,y):\n",
    "    return sum(abs(x - y))\n",
    " \n",
    "def chebyshev_distance(x,y):\n",
    "    return max(abs(x - y))\n",
    " \n",
    "def minkowski_distance(x,y, p, w):\n",
    "    return sum(w * abs(x - y)^p)^(1/p)\n",
    " \n",
    "def get_distance(x, y, algorithm =\"euclidean\"):\n",
    "    '''\n",
    "    three valid metrics:\n",
    "    euclidean:\n",
    "        sqrt(sum(np.square(x-y)))\n",
    "    manhattan:\n",
    "        return sum(abs(x - y))\n",
    "        \n",
    "    chebyshev:\n",
    "        max(abs(x - y))\n",
    " \n",
    "    '''\n",
    "    if(algorithm == \"euclidean\"):\n",
    "        return euclidean_distance(x,y)\n",
    "    elif(algorithm == \"manhattan\"):\n",
    "        return manhattan_distance(x,y)\n",
    "    elif(algorithm == \"chebyshev\"):\n",
    "        return chebyshev_distance(x,y)\n",
    "    else:\n",
    "        #print(\"The algorithm \", algorithm, \" couldn't be recognized.\\n\", \"\\\"euclidean\\\" algorithm is used instead\")\n",
    "        return euclidean_distance(x,y)\n",
    " "
   ]
  },
  {
   "cell_type": "code",
   "execution_count": 4,
   "metadata": {},
   "outputs": [],
   "source": [
    "class K_Neigbours_Classifier():\n",
    "    def __init__(self, neigbour_count = 7, algorithm = \"euclidean\"):\n",
    "        self.alg = algorithm\n",
    "        self.n_count = neigbour_count\n",
    " \n",
    "    def fit(self, train_input, train_output):\n",
    "        self.train_in = train_input\n",
    "        self.train_out = train_output\n",
    "        #\n",
    "        pd.unique(self.train_out) # since it is array of arrays sized 1\n",
    "        self.categories = pd.unique(self.train_out.ravel())\n",
    "   \n",
    "    def predict(self, single):\n",
    "        # calculate the distances\n",
    "        distances = np.apply_along_axis(get_distance, 1, self.train_in, y=single, algorithm=self.alg)\n",
    "        #print(distances)\n",
    "        nearest_indices = np.argpartition(distances, self.n_count)[:self.n_count]\n",
    "        #print(nearest_indices)\n",
    "        category_dict = dict.fromkeys(self.categories, 0)\n",
    "        nearest_keys = self.train_out[nearest_indices]\n",
    "        for neigbour_key in nearest_keys:\n",
    "            category_dict[neigbour_key] = 1 + category_dict[neigbour_key]\n",
    "        the_key_with_max = max(category_dict, key=category_dict.get)\n",
    "        #print(\"We predict this one to be: \", the_key_with_max)\n",
    "        return the_key_with_max"
   ]
  },
  {
   "cell_type": "code",
   "execution_count": 5,
   "metadata": {},
   "outputs": [],
   "source": [
    "def measure(X_train, Y_train, X_test, Y_test, neigbour_count=13, algorithm=\"manhattan\", output=True ):\n",
    "    knc = K_Neigbours_Classifier(neigbour_count=neigbour_count, algorithm=algorithm)\n",
    "    knc.fit(X_train, Y_train[:,0]) # we know that y_train is 1 dimensional \n",
    "    correct_pred = 0\n",
    "    incorrect_pred = 0\n",
    "    correct_pred_dict = dict.fromkeys(cat,0)\n",
    "    failed_to_pred_dict = dict.fromkeys(cat,0)\n",
    "    assumed_to_pred_dict = dict.fromkeys(cat,0)\n",
    "\n",
    "    predictions = [] #= np.empty(Y_test.size,  dtype=\"S3\")\n",
    "    for i in range (Y_test.size):\n",
    "        correct_key = Y_test[i][0]\n",
    "        predicted_key =knc.predict(X_test[i])\n",
    "        predictions.append(predicted_key)\n",
    "        if(  predicted_key== correct_key):\n",
    "            correct_pred = 1 + correct_pred\n",
    "            correct_pred_dict[correct_key] = 1 + correct_pred_dict[correct_key]\n",
    "\n",
    "        else:\n",
    "            incorrect_pred = 1 + incorrect_pred\n",
    "            failed_to_pred_dict[correct_key] = 1 + failed_to_pred_dict[correct_key]\n",
    "            assumed_to_pred_dict[predicted_key] = 1 + assumed_to_pred_dict[predicted_key] \n",
    "    accuracy = correct_pred/(correct_pred + incorrect_pred)\n",
    "    if output:\n",
    "        print(\"Accuracy: \", correct_pred/(correct_pred + incorrect_pred) )\n",
    "        print(\"Number of correct predictions: \", correct_pred)\n",
    "        print(\"Number of incorrect predictions: \", incorrect_pred)\n",
    "        print(\"correct predict(ion) count:\\n\", correct_pred_dict)\n",
    "        print(\"failed_to predict(ion) count:\\n\", failed_to_pred_dict)\n",
    "        print(\"assumed_to predict(ion) count:\\n\", assumed_to_pred_dict)\n",
    "        \n",
    "\n",
    "        print(\"\\n                   Classification Report                  \\n\",\n",
    "        classification_report(Y_test, predictions, zero_division=1)) # ignores zero division warning\n",
    "        \n",
    "        ConfusionMatrixDisplay.from_predictions(Y_test, predictions)\n",
    "        plt.show()\n",
    "    return accuracy"
   ]
  },
  {
   "cell_type": "markdown",
   "metadata": {},
   "source": [
    "## Read the data"
   ]
  },
  {
   "cell_type": "code",
   "execution_count": 6,
   "metadata": {
    "collapsed": false,
    "pycharm": {
     "name": "#%%\n"
    }
   },
   "outputs": [
    {
     "data": {
      "text/plain": "       DBName     1     2     3     4    5    6     7     8 OutName\n0  ADT1_YEAST  0.58  0.61  0.47  0.13  0.5  0.0  0.48  0.22     MIT\n1  ADT2_YEAST  0.43  0.67  0.48  0.27  0.5  0.0  0.53  0.22     MIT\n2  ADT3_YEAST  0.64  0.62  0.49  0.15  0.5  0.0  0.53  0.22     MIT\n3  AAR2_YEAST  0.58  0.44  0.57  0.13  0.5  0.0  0.54  0.22     NUC\n4  AATM_YEAST  0.42  0.44  0.48  0.54  0.5  0.0  0.48  0.22     MIT",
      "text/html": "<div>\n<style scoped>\n    .dataframe tbody tr th:only-of-type {\n        vertical-align: middle;\n    }\n\n    .dataframe tbody tr th {\n        vertical-align: top;\n    }\n\n    .dataframe thead th {\n        text-align: right;\n    }\n</style>\n<table border=\"1\" class=\"dataframe\">\n  <thead>\n    <tr style=\"text-align: right;\">\n      <th></th>\n      <th>DBName</th>\n      <th>1</th>\n      <th>2</th>\n      <th>3</th>\n      <th>4</th>\n      <th>5</th>\n      <th>6</th>\n      <th>7</th>\n      <th>8</th>\n      <th>OutName</th>\n    </tr>\n  </thead>\n  <tbody>\n    <tr>\n      <th>0</th>\n      <td>ADT1_YEAST</td>\n      <td>0.58</td>\n      <td>0.61</td>\n      <td>0.47</td>\n      <td>0.13</td>\n      <td>0.5</td>\n      <td>0.0</td>\n      <td>0.48</td>\n      <td>0.22</td>\n      <td>MIT</td>\n    </tr>\n    <tr>\n      <th>1</th>\n      <td>ADT2_YEAST</td>\n      <td>0.43</td>\n      <td>0.67</td>\n      <td>0.48</td>\n      <td>0.27</td>\n      <td>0.5</td>\n      <td>0.0</td>\n      <td>0.53</td>\n      <td>0.22</td>\n      <td>MIT</td>\n    </tr>\n    <tr>\n      <th>2</th>\n      <td>ADT3_YEAST</td>\n      <td>0.64</td>\n      <td>0.62</td>\n      <td>0.49</td>\n      <td>0.15</td>\n      <td>0.5</td>\n      <td>0.0</td>\n      <td>0.53</td>\n      <td>0.22</td>\n      <td>MIT</td>\n    </tr>\n    <tr>\n      <th>3</th>\n      <td>AAR2_YEAST</td>\n      <td>0.58</td>\n      <td>0.44</td>\n      <td>0.57</td>\n      <td>0.13</td>\n      <td>0.5</td>\n      <td>0.0</td>\n      <td>0.54</td>\n      <td>0.22</td>\n      <td>NUC</td>\n    </tr>\n    <tr>\n      <th>4</th>\n      <td>AATM_YEAST</td>\n      <td>0.42</td>\n      <td>0.44</td>\n      <td>0.48</td>\n      <td>0.54</td>\n      <td>0.5</td>\n      <td>0.0</td>\n      <td>0.48</td>\n      <td>0.22</td>\n      <td>MIT</td>\n    </tr>\n  </tbody>\n</table>\n</div>"
     },
     "execution_count": 6,
     "metadata": {},
     "output_type": "execute_result"
    }
   ],
   "source": [
    "file_name = \"yeast.csv\" \n",
    "md = pd.read_csv(file_name)\n",
    "\n",
    "# md.dropna(inplace = True)\n",
    "# md.replace('unknown', 0, inplace = True)\n",
    "md.head()\n"
   ]
  },
  {
   "cell_type": "markdown",
   "metadata": {
    "collapsed": false,
    "pycharm": {
     "name": "#%% md\n"
    }
   },
   "source": [
    "## Prepare the data\n",
    "* Separate the input and output variables\n",
    "* Seperate the data into training and test sets\n",
    "* Normalize the data\n"
   ]
  },
  {
   "cell_type": "code",
   "execution_count": 7,
   "metadata": {
    "collapsed": false,
    "pycharm": {
     "name": "#%%\n"
    }
   },
   "outputs": [],
   "source": [
    "# Shuffle the data to get more fair representative\n",
    "#md.reindex(np.random.permutation(md.index))\n",
    "\n",
    "test_ratio = 0.2\n",
    "X = md.values[:,1:9]\n",
    "Y = md.values[:,9:]\n",
    "cat = pd.unique(Y[:,0])\n",
    "\n",
    "# normalize X:\n",
    "for i in range(X.shape[1]):\n",
    "    X[:,i] = (X[:,i] - X[:,i].mean())/X[:,i].std()"
   ]
  },
  {
   "cell_type": "code",
   "execution_count": 8,
   "metadata": {
    "collapsed": false,
    "pycharm": {
     "name": "#%%\n"
    }
   },
   "outputs": [],
   "source": [
    "X_train, X_test = the_train_test_split(X, test_ratio = test_ratio)\n",
    "Y_train, Y_test = the_train_test_split(Y, test_ratio = test_ratio)"
   ]
  },
  {
   "cell_type": "code",
   "execution_count": 9,
   "metadata": {
    "collapsed": false,
    "pycharm": {
     "name": "#%%\n"
    }
   },
   "outputs": [
    {
     "name": "stdout",
     "output_type": "stream",
     "text": [
      "Accuracy:  0.5993265993265994\n",
      "Number of correct predictions:  178\n",
      "Number of incorrect predictions:  119\n",
      "correct predict(ion) count:\n",
      " {'MIT': 9, 'NUC': 42, 'CYT': 65, 'ME1': 17, 'EXC': 5, 'ME2': 3, 'ME3': 35, 'VAC': 0, 'POX': 2, 'ERL': 0}\n",
      "failed_to predict(ion) count:\n",
      " {'MIT': 13, 'NUC': 23, 'CYT': 37, 'ME1': 4, 'EXC': 1, 'ME2': 5, 'ME3': 19, 'VAC': 15, 'POX': 2, 'ERL': 0}\n",
      "assumed_to predict(ion) count:\n",
      " {'MIT': 21, 'NUC': 48, 'CYT': 39, 'ME1': 1, 'EXC': 5, 'ME2': 2, 'ME3': 3, 'VAC': 0, 'POX': 0, 'ERL': 0}\n",
      "\n",
      "                   Classification Report                  \n",
      "               precision    recall  f1-score   support\n",
      "\n",
      "         CYT       0.62      0.64      0.63       102\n",
      "         EXC       0.50      0.83      0.62         6\n",
      "         ME1       0.94      0.81      0.87        21\n",
      "         ME2       0.60      0.38      0.46         8\n",
      "         ME3       0.92      0.65      0.76        54\n",
      "         MIT       0.30      0.41      0.35        22\n",
      "         NUC       0.47      0.65      0.54        65\n",
      "         POX       1.00      0.50      0.67         4\n",
      "         VAC       1.00      0.00      0.00        15\n",
      "\n",
      "    accuracy                           0.60       297\n",
      "   macro avg       0.71      0.54      0.55       297\n",
      "weighted avg       0.66      0.60      0.59       297\n",
      "\n"
     ]
    },
    {
     "data": {
      "text/plain": "<Figure size 432x288 with 2 Axes>",
      "image/png": "[encoded data removed]"
     },
     "metadata": {
      "needs_background": "light"
     },
     "output_type": "display_data"
    },
    {
     "data": {
      "text/plain": "0.5993265993265994"
     },
     "execution_count": 9,
     "metadata": {},
     "output_type": "execute_result"
    }
   ],
   "source": [
    "measure(X_train, Y_train, X_test, Y_test, neigbour_count=25, algorithm=\"manhattan\")"
   ]
  },
  {
   "cell_type": "code",
   "execution_count": 10,
   "metadata": {
    "collapsed": false,
    "pycharm": {
     "name": "#%%\n"
    }
   },
   "outputs": [
    {
     "name": "stdout",
     "output_type": "stream",
     "text": [
      "Accuracy:  0.5723905723905723\n",
      "Number of correct predictions:  170\n",
      "Number of incorrect predictions:  127\n",
      "correct predict(ion) count:\n",
      " {'MIT': 9, 'NUC': 43, 'CYT': 59, 'ME1': 15, 'EXC': 4, 'ME2': 3, 'ME3': 35, 'VAC': 0, 'POX': 2, 'ERL': 0}\n",
      "failed_to predict(ion) count:\n",
      " {'MIT': 13, 'NUC': 22, 'CYT': 43, 'ME1': 6, 'EXC': 2, 'ME2': 5, 'ME3': 19, 'VAC': 15, 'POX': 2, 'ERL': 0}\n",
      "assumed_to predict(ion) count:\n",
      " {'MIT': 25, 'NUC': 52, 'CYT': 38, 'ME1': 2, 'EXC': 4, 'ME2': 3, 'ME3': 3, 'VAC': 0, 'POX': 0, 'ERL': 0}\n",
      "\n",
      "                   Classification Report                  \n",
      "               precision    recall  f1-score   support\n",
      "\n",
      "         CYT       0.61      0.58      0.59       102\n",
      "         EXC       0.50      0.67      0.57         6\n",
      "         ME1       0.88      0.71      0.79        21\n",
      "         ME2       0.50      0.38      0.43         8\n",
      "         ME3       0.92      0.65      0.76        54\n",
      "         MIT       0.26      0.41      0.32        22\n",
      "         NUC       0.45      0.66      0.54        65\n",
      "         POX       1.00      0.50      0.67         4\n",
      "         VAC       1.00      0.00      0.00        15\n",
      "\n",
      "    accuracy                           0.57       297\n",
      "   macro avg       0.68      0.51      0.52       297\n",
      "weighted avg       0.64      0.57      0.57       297\n",
      "\n"
     ]
    },
    {
     "data": {
      "text/plain": "<Figure size 432x288 with 2 Axes>",
      "image/png": "[encoded data removed]"
     },
     "metadata": {
      "needs_background": "light"
     },
     "output_type": "display_data"
    },
    {
     "data": {
      "text/plain": "0.5723905723905723"
     },
     "execution_count": 10,
     "metadata": {},
     "output_type": "execute_result"
    }
   ],
   "source": [
    "measure(X_train, Y_train, X_test, Y_test, neigbour_count=13, algorithm=\"manhattan\")"
   ]
  },
  {
   "cell_type": "markdown",
   "metadata": {},
   "source": [
    "## Cross Validation to tune parameters"
   ]
  },
  {
   "cell_type": "markdown",
   "metadata": {},
   "source": [
    "Firstly, we will tune $\\lambda$ for each metric,\\\n",
    "then we will compare the best accuracy rates of metrics (which are in those $lambda$ values)."
   ]
  },
  {
   "cell_type": "code",
   "execution_count": 12,
   "metadata": {},
   "outputs": [],
   "source": [
    "def cross_validate_knn(X_train, Y_train, min_lambda= 1, max_lambda=None, algorithm=\"euchattan\", fold_k=10):\n",
    "    size = ceil( X_train.shape[0]/fold_k)\n",
    "    if max_lambda is None:\n",
    "        max_lambda = floor(X_train.shape[0]/fold_k) # better to be sorry than  safe\n",
    "    if min_lambda % 2 == 0:\n",
    "        min_lambda = min_lambda + 1\n",
    "    \n",
    "    acc = {}\n",
    "    ind = 0;\n",
    "    for l in range(min_lambda, 1+max_lambda, 2):\n",
    "        acc[l] = np.zeros(fold_k)\n",
    "        for i in range(fold_k):\n",
    "            x_tr = np.concatenate((X_train[0: i*size],X_train[(1+i)*size:]  ))\n",
    "            x_te = X_train[i*size:(1+i)*size]\n",
    "            y_tr = np.concatenate((Y_train[0: i*size],Y_train[(1+i)*size:]  ))\n",
    "            y_te = Y_train[i*size:(1+i)*size]\n",
    "            #print(y_te[:10])\n",
    "\n",
    "            acc[l][i] = measure(x_tr,y_tr,x_te,y_te, neigbour_count=l, algorithm=algorithm, output=False)\n",
    "        print( \"l: \",l, \" acc: \",acc[l], \"avg \", np.mean(acc[l]))\n",
    "        ind = ind+1\n",
    "    return acc"
   ]
  },
  {
   "cell_type": "markdown",
   "metadata": {},
   "source": [
    "### Tuning lambda for Manhattan metric "
   ]
  },
  {
   "cell_type": "code",
   "execution_count": 12,
   "metadata": {},
   "outputs": [
    {
     "name": "stdout",
     "output_type": "stream",
     "text": [
      "l:  1  acc:  [0.53781513 0.45378151 0.45378151 0.43697479 0.49579832 0.37815126\n",
      " 0.50420168 0.4789916  0.41176471 0.47413793] avg  0.46253984352361643\n",
      "l:  3  acc:  [0.59663866 0.52941176 0.49579832 0.53781513 0.51260504 0.49579832\n",
      " 0.5210084  0.51260504 0.39495798 0.55172414] avg  0.514836279339322\n",
      "l:  5  acc:  [0.58823529 0.56302521 0.50420168 0.66386555 0.5210084  0.50420168\n",
      " 0.51260504 0.55462185 0.40336134 0.59482759] avg  0.5409953636627065\n",
      "l:  7  acc:  [0.60504202 0.53781513 0.55462185 0.67226891 0.54621849 0.5210084\n",
      " 0.49579832 0.57142857 0.41176471 0.5862069 ] avg  0.5502173283106346\n",
      "l:  9  acc:  [0.59663866 0.58823529 0.5210084  0.65546218 0.53781513 0.54621849\n",
      " 0.55462185 0.54621849 0.40336134 0.56896552] avg  0.5518545349174152\n",
      "l:  11  acc:  [0.59663866 0.56302521 0.5210084  0.63865546 0.54621849 0.51260504\n",
      " 0.57142857 0.52941176 0.45378151 0.54310345] avg  0.547587655751956\n",
      "l:  13  acc:  [0.59663866 0.55462185 0.51260504 0.63865546 0.55462185 0.47058824\n",
      " 0.58823529 0.54621849 0.4789916  0.56034483] avg  0.5501521298174442\n",
      "l:  15  acc:  [0.60504202 0.53781513 0.50420168 0.65546218 0.54621849 0.48739496\n",
      " 0.57142857 0.50420168 0.41176471 0.54310345] avg  0.5366632860040568\n",
      "l:  17  acc:  [0.6302521  0.52941176 0.52941176 0.64705882 0.54621849 0.49579832\n",
      " 0.61344538 0.52941176 0.47058824 0.53448276] avg  0.5526079397276151\n",
      "l:  19  acc:  [0.65546218 0.53781513 0.52941176 0.67226891 0.53781513 0.48739496\n",
      " 0.57142857 0.51260504 0.48739496 0.54310345] avg  0.5534700086931325\n",
      "l:  21  acc:  [0.63865546 0.51260504 0.52941176 0.65546218 0.51260504 0.4789916\n",
      " 0.57983193 0.54621849 0.47058824 0.51724138] avg  0.5441611127209505\n",
      "l:  23  acc:  [0.65546218 0.52941176 0.5210084  0.65546218 0.53781513 0.49579832\n",
      " 0.55462185 0.55462185 0.46218487 0.51724138] avg  0.5483627933932194\n",
      "l:  25  acc:  [0.67226891 0.54621849 0.50420168 0.66386555 0.54621849 0.48739496\n",
      " 0.57142857 0.52941176 0.49579832 0.51724138] avg  0.553404810199942\n",
      "l:  27  acc:  [0.67226891 0.52941176 0.51260504 0.68067227 0.53781513 0.50420168\n",
      " 0.57142857 0.52941176 0.48739496 0.50862069] avg  0.5533830773688786\n",
      "l:  29  acc:  [0.67226891 0.53781513 0.5210084  0.66386555 0.53781513 0.48739496\n",
      " 0.57142857 0.52941176 0.46218487 0.50862069] avg  0.5491813966966097\n",
      "l:  31  acc:  [0.69747899 0.5210084  0.49579832 0.64705882 0.5210084  0.48739496\n",
      " 0.59663866 0.51260504 0.46218487 0.49137931] avg  0.5432555780933063\n",
      "l:  33  acc:  [0.68067227 0.52941176 0.51260504 0.63865546 0.5210084  0.4789916\n",
      " 0.57983193 0.51260504 0.4789916  0.48275862] avg  0.5415531729933353\n",
      "l:  35  acc:  [0.68067227 0.53781513 0.5210084  0.63865546 0.52941176 0.4789916\n",
      " 0.57983193 0.52941176 0.4789916  0.48275862] avg  0.5457548536656042\n"
     ]
    }
   ],
   "source": [
    "man_cv = cross_validate_knn(X_train, Y_train, min_lambda= 1, max_lambda=35, algorithm=\"manhattan\", fold_k=10)"
   ]
  },
  {
   "cell_type": "code",
   "execution_count": 13,
   "metadata": {},
   "outputs": [
    {
     "name": "stdout",
     "output_type": "stream",
     "text": [
      "1  :  0.46253984352361643\n",
      "3  :  0.514836279339322\n",
      "5  :  0.5409953636627065\n",
      "7  :  0.5502173283106346\n",
      "9  :  0.5518545349174152\n",
      "11  :  0.547587655751956\n",
      "13  :  0.5501521298174442\n",
      "15  :  0.5366632860040568\n",
      "17  :  0.5526079397276151\n",
      "19  :  0.5534700086931325\n",
      "21  :  0.5441611127209505\n",
      "23  :  0.5483627933932194\n",
      "25  :  0.553404810199942\n",
      "27  :  0.5533830773688786\n",
      "29  :  0.5491813966966097\n",
      "31  :  0.5432555780933063\n",
      "33  :  0.5415531729933353\n",
      "35  :  0.5457548536656042\n",
      "Best accuracy was:  0.5534700086931325  when lambda= 19\n"
     ]
    }
   ],
   "source": [
    "man_best_l = -1\n",
    "man_best_acc = 0\n",
    "for l, arr in man_cv.items():\n",
    "    m =np.mean(arr) \n",
    "    if  m> man_best_acc:\n",
    "        man_best_l, man_best_acc = l, m\n",
    "    print(l, \" : \",m)\n",
    "    \n",
    "print(\"Best accuracy was: \", man_best_acc, \" when lambda=\", man_best_l)\n",
    "#print(np.argmax(man_cv))"
   ]
  },
  {
   "cell_type": "markdown",
   "metadata": {},
   "source": [
    "### Tuning lambda for Euclidean metric"
   ]
  },
  {
   "cell_type": "code",
   "execution_count": 14,
   "metadata": {},
   "outputs": [
    {
     "name": "stdout",
     "output_type": "stream",
     "text": [
      "l:  1  acc:  [0.54621849 0.42857143 0.47058824 0.48739496 0.50420168 0.42857143\n",
      " 0.4789916  0.46218487 0.38655462 0.46551724] avg  0.46587945523036806\n",
      "l:  3  acc:  [0.58823529 0.51260504 0.51260504 0.5210084  0.48739496 0.57142857\n",
      " 0.48739496 0.46218487 0.41176471 0.53448276] avg  0.5089104607360185\n",
      "l:  5  acc:  [0.58823529 0.54621849 0.50420168 0.66386555 0.55462185 0.53781513\n",
      " 0.5210084  0.56302521 0.40336134 0.57758621] avg  0.5459939148073023\n",
      "l:  7  acc:  [0.59663866 0.56302521 0.52941176 0.67226891 0.53781513 0.55462185\n",
      " 0.50420168 0.55462185 0.36134454 0.53448276] avg  0.5408432338452622\n",
      "l:  9  acc:  [0.61344538 0.56302521 0.52941176 0.68067227 0.52941176 0.54621849\n",
      " 0.52941176 0.56302521 0.38655462 0.52586207] avg  0.5467038539553754\n",
      "l:  11  acc:  [0.62184874 0.56302521 0.5210084  0.68067227 0.50420168 0.54621849\n",
      " 0.53781513 0.56302521 0.41176471 0.53448276] avg  0.5484062590553462\n",
      "l:  13  acc:  [0.61344538 0.55462185 0.51260504 0.69747899 0.55462185 0.5210084\n",
      " 0.60504202 0.56302521 0.42016807 0.53448276] avg  0.5576499565343378\n",
      "l:  15  acc:  [0.62184874 0.52941176 0.53781513 0.69747899 0.57142857 0.48739496\n",
      " 0.62184874 0.56302521 0.43697479 0.55172414] avg  0.5618951028687337\n",
      "l:  17  acc:  [0.62184874 0.54621849 0.5210084  0.68067227 0.55462185 0.50420168\n",
      " 0.58823529 0.52941176 0.42857143 0.54310345] avg  0.5517893364242249\n",
      "l:  19  acc:  [0.63865546 0.54621849 0.50420168 0.68907563 0.55462185 0.49579832\n",
      " 0.59663866 0.53781513 0.47058824 0.56896552] avg  0.560257896261953\n",
      "l:  21  acc:  [0.6302521  0.54621849 0.50420168 0.68907563 0.52941176 0.4789916\n",
      " 0.57983193 0.58823529 0.46218487 0.54310345] avg  0.55515068096204\n",
      "l:  23  acc:  [0.68067227 0.51260504 0.48739496 0.69747899 0.52941176 0.49579832\n",
      " 0.57983193 0.59663866 0.47058824 0.50862069] avg  0.5559040857722399\n",
      "l:  25  acc:  [0.68907563 0.54621849 0.51260504 0.68907563 0.5210084  0.46218487\n",
      " 0.56302521 0.56302521 0.47058824 0.50862069] avg  0.5525427412344248\n",
      "l:  27  acc:  [0.69747899 0.54621849 0.50420168 0.68067227 0.52941176 0.45378151\n",
      " 0.58823529 0.57983193 0.50420168 0.49137931] avg  0.5575412923790206\n",
      "l:  29  acc:  [0.68907563 0.54621849 0.51260504 0.65546218 0.52941176 0.44537815\n",
      " 0.59663866 0.57142857 0.49579832 0.5       ] avg  0.5542016806722689\n",
      "l:  31  acc:  [0.68067227 0.53781513 0.49579832 0.64705882 0.53781513 0.46218487\n",
      " 0.57142857 0.57983193 0.49579832 0.5       ] avg  0.5508403361344538\n",
      "l:  33  acc:  [0.65546218 0.55462185 0.51260504 0.65546218 0.54621849 0.45378151\n",
      " 0.57983193 0.55462185 0.48739496 0.5       ] avg  0.55\n",
      "l:  35  acc:  [0.67226891 0.53781513 0.53781513 0.64705882 0.52941176 0.46218487\n",
      " 0.59663866 0.53781513 0.50420168 0.49137931] avg  0.551658939437844\n"
     ]
    }
   ],
   "source": [
    "euc_cv = cross_validate_knn(X_train, Y_train, min_lambda= 1, max_lambda=35, algorithm=\"euclidean\", fold_k=10)"
   ]
  },
  {
   "cell_type": "code",
   "execution_count": 15,
   "metadata": {},
   "outputs": [
    {
     "name": "stdout",
     "output_type": "stream",
     "text": [
      "1  :  0.46587945523036806\n",
      "3  :  0.5089104607360185\n",
      "5  :  0.5459939148073023\n",
      "7  :  0.5408432338452622\n",
      "9  :  0.5467038539553754\n",
      "11  :  0.5484062590553462\n",
      "13  :  0.5576499565343378\n",
      "15  :  0.5618951028687337\n",
      "17  :  0.5517893364242249\n",
      "19  :  0.560257896261953\n",
      "21  :  0.55515068096204\n",
      "23  :  0.5559040857722399\n",
      "25  :  0.5525427412344248\n",
      "27  :  0.5575412923790206\n",
      "29  :  0.5542016806722689\n",
      "31  :  0.5508403361344538\n",
      "33  :  0.55\n",
      "35  :  0.551658939437844\n",
      "Best accuracy was:  0.5618951028687337  when lambda= 15\n"
     ]
    }
   ],
   "source": [
    "euc_best_l = -1\n",
    "euc_best_acc = 0\n",
    "for l, arr in euc_cv.items():\n",
    "    m =np.mean(arr) \n",
    "    if  m> euc_best_acc:\n",
    "        euc_best_l, euc_best_acc = l, m\n",
    "    print(l, \" : \",m)\n",
    "    \n",
    "print(\"Best accuracy was: \", euc_best_acc, \" when lambda=\", euc_best_l)\n",
    "#print(np.argmax(euc_cv))"
   ]
  },
  {
   "cell_type": "markdown",
   "metadata": {},
   "source": [
    "### Tuning lambda for Chebyshev metric"
   ]
  },
  {
   "cell_type": "code",
   "execution_count": 13,
   "metadata": {
    "pycharm": {
     "name": "#%%\n"
    }
   },
   "outputs": [
    {
     "name": "stdout",
     "output_type": "stream",
     "text": [
      "l:  1  acc:  [0.51260504 0.43697479 0.48739496 0.51260504 0.48739496 0.41176471\n",
      " 0.45378151 0.46218487 0.40336134 0.46551724] avg  0.4633584468270067\n",
      "l:  3  acc:  [0.51260504 0.44537815 0.50420168 0.60504202 0.50420168 0.47058824\n",
      " 0.47058824 0.49579832 0.3697479  0.46551724] avg  0.48436685018835124\n",
      "l:  5  acc:  [0.54621849 0.54621849 0.48739496 0.62184874 0.56302521 0.52941176\n",
      " 0.52941176 0.55462185 0.40336134 0.57758621] avg  0.535909881193857\n",
      "l:  7  acc:  [0.54621849 0.57983193 0.51260504 0.65546218 0.53781513 0.49579832\n",
      " 0.51260504 0.55462185 0.40336134 0.50862069] avg  0.5306940017386265\n",
      "l:  9  acc:  [0.55462185 0.59663866 0.56302521 0.6302521  0.57142857 0.5210084\n",
      " 0.51260504 0.55462185 0.41176471 0.48275862] avg  0.5398725007244277\n",
      "l:  11  acc:  [0.60504202 0.57983193 0.57983193 0.62184874 0.54621849 0.50420168\n",
      " 0.53781513 0.57983193 0.42857143 0.48275862] avg  0.546595189800058\n",
      "l:  13  acc:  [0.59663866 0.59663866 0.53781513 0.6302521  0.53781513 0.48739496\n",
      " 0.54621849 0.55462185 0.40336134 0.49137931] avg  0.5382135612865836\n",
      "l:  15  acc:  [0.59663866 0.56302521 0.49579832 0.62184874 0.54621849 0.4789916\n",
      " 0.57142857 0.57142857 0.40336134 0.5       ] avg  0.534873949579832\n",
      "l:  17  acc:  [0.62184874 0.55462185 0.51260504 0.66386555 0.51260504 0.49579832\n",
      " 0.57142857 0.54621849 0.39495798 0.5       ] avg  0.5373949579831934\n",
      "l:  19  acc:  [0.63865546 0.56302521 0.51260504 0.6302521  0.5210084  0.4789916\n",
      " 0.57142857 0.54621849 0.43697479 0.52586207] avg  0.5425021732831063\n",
      "l:  21  acc:  [0.6302521  0.57142857 0.4789916  0.64705882 0.49579832 0.46218487\n",
      " 0.58823529 0.56302521 0.43697479 0.51724138] avg  0.5391190959142278\n",
      "l:  23  acc:  [0.63865546 0.57142857 0.51260504 0.65546218 0.49579832 0.44537815\n",
      " 0.55462185 0.53781513 0.38655462 0.5       ] avg  0.5298319327731092\n",
      "l:  25  acc:  [0.65546218 0.56302521 0.51260504 0.65546218 0.49579832 0.46218487\n",
      " 0.53781513 0.55462185 0.37815126 0.47413793] avg  0.5289263981454652\n",
      "l:  27  acc:  [0.65546218 0.55462185 0.51260504 0.65546218 0.48739496 0.46218487\n",
      " 0.54621849 0.57142857 0.41176471 0.49137931] avg  0.5348522167487685\n",
      "l:  29  acc:  [0.62184874 0.52941176 0.49579832 0.65546218 0.50420168 0.45378151\n",
      " 0.54621849 0.54621849 0.39495798 0.49137931] avg  0.5239278470008693\n",
      "l:  31  acc:  [0.63865546 0.52941176 0.48739496 0.62184874 0.50420168 0.45378151\n",
      " 0.5210084  0.54621849 0.41176471 0.51724138] avg  0.523152709359606\n",
      "l:  33  acc:  [0.6302521  0.52941176 0.52941176 0.66386555 0.50420168 0.45378151\n",
      " 0.51260504 0.56302521 0.46218487 0.5       ] avg  0.5348739495798319\n",
      "l:  35  acc:  [0.63865546 0.52941176 0.53781513 0.67226891 0.51260504 0.44537815\n",
      " 0.52941176 0.56302521 0.45378151 0.49137931] avg  0.5373732251521298\n"
     ]
    }
   ],
   "source": [
    "cheb_cv = cross_validate_knn(X_train, Y_train, min_lambda= 1, max_lambda=35, algorithm=\"chebyshev\", fold_k=10)"
   ]
  },
  {
   "cell_type": "code",
   "execution_count": 14,
   "metadata": {
    "pycharm": {
     "name": "#%%\n"
    }
   },
   "outputs": [
    {
     "name": "stdout",
     "output_type": "stream",
     "text": [
      "1  :  0.4633584468270067\n",
      "3  :  0.48436685018835124\n",
      "5  :  0.535909881193857\n",
      "7  :  0.5306940017386265\n",
      "9  :  0.5398725007244277\n",
      "11  :  0.546595189800058\n",
      "13  :  0.5382135612865836\n",
      "15  :  0.534873949579832\n",
      "17  :  0.5373949579831934\n",
      "19  :  0.5425021732831063\n",
      "21  :  0.5391190959142278\n",
      "23  :  0.5298319327731092\n",
      "25  :  0.5289263981454652\n",
      "27  :  0.5348522167487685\n",
      "29  :  0.5239278470008693\n",
      "31  :  0.523152709359606\n",
      "33  :  0.5348739495798319\n",
      "35  :  0.5373732251521298\n",
      "Best accuracy was:  0.546595189800058  when lambda= 11\n",
      "0\n"
     ]
    }
   ],
   "source": [
    "che_best_l = -1\n",
    "che_best_acc = 0\n",
    "for l, arr in cheb_cv.items():\n",
    "    m =np.mean(arr) \n",
    "    if  m> che_best_acc:\n",
    "        che_best_l, che_best_acc = l, m\n",
    "    print(l, \" : \",m)\n",
    "    \n",
    "print(\"Best accuracy was: \", che_best_acc, \" when lambda=\", che_best_l)\n",
    "print(np.argmax(cheb_cv))"
   ]
  }
 ],
 "metadata": {
  "interpreter": {
   "hash": "0b647197a1fcc38d756609367937b3918f8af3cc96749ff11478d444b1db53c3"
  },
  "kernelspec": {
   "display_name": "Python 3.9.12 64-bit (windows store)",
   "language": "python",
   "name": "python3"
  },
  "language_info": {
   "codemirror_mode": {
    "name": "ipython",
    "version": 3
   },
   "file_extension": ".py",
   "mimetype": "text/x-python",
   "name": "python",
   "nbconvert_exporter": "python",
   "pygments_lexer": "ipython3",
   "version": "3.9.12"
  },
  "orig_nbformat": 4
 },
 "nbformat": 4,
 "nbformat_minor": 2
}
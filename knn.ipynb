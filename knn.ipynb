{
 "cells": [
  {
   "cell_type": "markdown",
   "metadata": {},
   "source": [
    "## KNN Algorithm for Yeast Data\n"
   ]
  },
  {
   "cell_type": "code",
   "execution_count": 21,
   "metadata": {},
   "outputs": [],
   "source": [
    "import matplotlib.pyplot as plt\n",
    "\n",
    "import numpy as np\n",
    "import pandas as pd  \n",
    "from math import floor, ceil, sqrt"
   ]
  },
  {
   "cell_type": "code",
   "execution_count": 22,
   "metadata": {},
   "outputs": [],
   "source": [
    "def the_train_test_split(X, test_ratio = 0.2):\n",
    "    if(test_ratio >= 1 or test_ratio <0):\n",
    "        test_ratio = 0.2\n",
    "    row, _ = X.shape\n",
    "    train_count = floor(row * (1-test_ratio)) \n",
    "    train = X[:train_count]\n",
    "    test = X[train_count:]\n",
    "    return train, test"
   ]
  },
  {
   "cell_type": "code",
   "execution_count": 32,
   "metadata": {},
   "outputs": [],
   "source": [
    "def euclidean_distance(x,y):\n",
    "    return sqrt(sum(np.square(x-y)))\n",
    "\n",
    "def get_distance(x, y, algorithm =\"euclidean\"):\n",
    "    if(algorithm == \"euclidean\"):\n",
    "        return euclidean_distance(x,y)"
   ]
  },
  {
   "cell_type": "code",
   "execution_count": 95,
   "metadata": {},
   "outputs": [],
   "source": [
    "class K_Neigbours_Classifier():\n",
    "    \n",
    "    def __init__(self, neigbour_count = 7, algorithm = \"euclidean\"):\n",
    "        self.alg = algorithm\n",
    "        self.n_count = neigbour_count\n",
    "\n",
    "    def fit(self, train_input, train_output):\n",
    "        self.train_in = train_input\n",
    "        self.train_out = train_output\n",
    "        #\n",
    "        pd.unique(self.train_out) # since it is array of arrays sized 1\n",
    "        self.categories = pd.unique(self.train_out.ravel())\n",
    "    \n",
    "    def predict(self, single):\n",
    "        # calculate the distances\n",
    "        distances = np.apply_along_axis(get_distance, 1, self.train_in, y=single, algorithm=self.alg)\n",
    "        #print(distances)\n",
    "        nearest_indices = np.argpartition(distances, self.n_count)[:self.n_count]\n",
    "        #print(nearest_indices)\n",
    "        category_dict = dict.fromkeys(self.categories, 0)\n",
    "        nearest_keys = self.train_out[nearest_indices]\n",
    "        for neigbour_key in nearest_keys:\n",
    "            category_dict[neigbour_key] = 1 + category_dict[neigbour_key]\n",
    "        the_key_with_max = max(category_dict, key=category_dict.get)\n",
    "        #print(\"We predict this one to be: \", the_key_with_max)\n",
    "        return the_key_with_max"
   ]
  },
  {
   "cell_type": "code",
   "execution_count": 24,
   "metadata": {},
   "outputs": [
    {
     "data": {
      "text/html": [
       "<div>\n",
       "<style scoped>\n",
       "    .dataframe tbody tr th:only-of-type {\n",
       "        vertical-align: middle;\n",
       "    }\n",
       "\n",
       "    .dataframe tbody tr th {\n",
       "        vertical-align: top;\n",
       "    }\n",
       "\n",
       "    .dataframe thead th {\n",
       "        text-align: right;\n",
       "    }\n",
       "</style>\n",
       "<table border=\"1\" class=\"dataframe\">\n",
       "  <thead>\n",
       "    <tr style=\"text-align: right;\">\n",
       "      <th></th>\n",
       "      <th>ADT1_YEAST</th>\n",
       "      <th>0.58</th>\n",
       "      <th>0.61</th>\n",
       "      <th>0.47</th>\n",
       "      <th>0.13</th>\n",
       "      <th>0.50</th>\n",
       "      <th>0.00</th>\n",
       "      <th>0.48</th>\n",
       "      <th>0.22</th>\n",
       "      <th>MIT</th>\n",
       "    </tr>\n",
       "  </thead>\n",
       "  <tbody>\n",
       "    <tr>\n",
       "      <th>0</th>\n",
       "      <td>ADT2_YEAST</td>\n",
       "      <td>0.43</td>\n",
       "      <td>0.67</td>\n",
       "      <td>0.48</td>\n",
       "      <td>0.27</td>\n",
       "      <td>0.5</td>\n",
       "      <td>0.0</td>\n",
       "      <td>0.53</td>\n",
       "      <td>0.22</td>\n",
       "      <td>MIT</td>\n",
       "    </tr>\n",
       "    <tr>\n",
       "      <th>1</th>\n",
       "      <td>ADT3_YEAST</td>\n",
       "      <td>0.64</td>\n",
       "      <td>0.62</td>\n",
       "      <td>0.49</td>\n",
       "      <td>0.15</td>\n",
       "      <td>0.5</td>\n",
       "      <td>0.0</td>\n",
       "      <td>0.53</td>\n",
       "      <td>0.22</td>\n",
       "      <td>MIT</td>\n",
       "    </tr>\n",
       "    <tr>\n",
       "      <th>2</th>\n",
       "      <td>AAR2_YEAST</td>\n",
       "      <td>0.58</td>\n",
       "      <td>0.44</td>\n",
       "      <td>0.57</td>\n",
       "      <td>0.13</td>\n",
       "      <td>0.5</td>\n",
       "      <td>0.0</td>\n",
       "      <td>0.54</td>\n",
       "      <td>0.22</td>\n",
       "      <td>NUC</td>\n",
       "    </tr>\n",
       "    <tr>\n",
       "      <th>3</th>\n",
       "      <td>AATM_YEAST</td>\n",
       "      <td>0.42</td>\n",
       "      <td>0.44</td>\n",
       "      <td>0.48</td>\n",
       "      <td>0.54</td>\n",
       "      <td>0.5</td>\n",
       "      <td>0.0</td>\n",
       "      <td>0.48</td>\n",
       "      <td>0.22</td>\n",
       "      <td>MIT</td>\n",
       "    </tr>\n",
       "    <tr>\n",
       "      <th>4</th>\n",
       "      <td>AATC_YEAST</td>\n",
       "      <td>0.51</td>\n",
       "      <td>0.40</td>\n",
       "      <td>0.56</td>\n",
       "      <td>0.17</td>\n",
       "      <td>0.5</td>\n",
       "      <td>0.5</td>\n",
       "      <td>0.49</td>\n",
       "      <td>0.22</td>\n",
       "      <td>CYT</td>\n",
       "    </tr>\n",
       "  </tbody>\n",
       "</table>\n",
       "</div>"
      ],
      "text/plain": [
       "   ADT1_YEAST  0.58  0.61  0.47  0.13  0.50  0.00  0.48  0.22  MIT\n",
       "0  ADT2_YEAST  0.43  0.67  0.48  0.27   0.5   0.0  0.53  0.22  MIT\n",
       "1  ADT3_YEAST  0.64  0.62  0.49  0.15   0.5   0.0  0.53  0.22  MIT\n",
       "2  AAR2_YEAST  0.58  0.44  0.57  0.13   0.5   0.0  0.54  0.22  NUC\n",
       "3  AATM_YEAST  0.42  0.44  0.48  0.54   0.5   0.0  0.48  0.22  MIT\n",
       "4  AATC_YEAST  0.51  0.40  0.56  0.17   0.5   0.5  0.49  0.22  CYT"
      ]
     },
     "execution_count": 24,
     "metadata": {},
     "output_type": "execute_result"
    }
   ],
   "source": [
    "file_name = \"yeast.csv\" \n",
    "md = pd.read_csv(file_name)\n",
    "\n",
    "# md.dropna(inplace = True)\n",
    "# md.replace('unknown', 0, inplace = True)\n",
    "md.head()"
   ]
  },
  {
   "cell_type": "code",
   "execution_count": 98,
   "metadata": {},
   "outputs": [],
   "source": [
    "test_ratio = 0.2\n",
    "X = md.values[:,1:9]\n",
    "Y = md.values[:,9:]\n",
    "\n",
    "X_train, X_test = the_train_test_split(X, test_ratio = test_ratio)\n",
    "Y_train, Y_test = the_train_test_split(Y, test_ratio = test_ratio)"
   ]
  },
  {
   "cell_type": "code",
   "execution_count": 99,
   "metadata": {},
   "outputs": [],
   "source": [
    "knc = K_Neigbours_Classifier(neigbour_count=13)\n",
    "knc.fit(X_train, Y_train[:,0]) # we know that y_train is 1 dimensional "
   ]
  },
  {
   "cell_type": "code",
   "execution_count": 100,
   "metadata": {},
   "outputs": [
    {
     "name": "stdout",
     "output_type": "stream",
     "text": [
      "Accuracy:  0.5589225589225589\n",
      "Number of correct predictions:  166\n",
      "Number of incorrect predictions:  131\n"
     ]
    }
   ],
   "source": [
    "correct_pred = 0;\n",
    "incorrect_pred = 0;\n",
    "for i in range (Y_test.size):\n",
    "    if( knc.predict(X_test[i]) == Y_test[i]):\n",
    "        correct_pred = 1 + correct_pred\n",
    "    else:\n",
    "        incorrect_pred = 1 + incorrect_pred\n",
    "\n",
    "print(\"Accuracy: \", correct_pred/(correct_pred + incorrect_pred) )\n",
    "print(\"Number of correct predictions: \", correct_pred)\n",
    "print(\"Number of incorrect predictions: \", incorrect_pred)"
   ]
  }
 ],
 "metadata": {
  "interpreter": {
   "hash": "c3aa14960646f8382bb681c4fca9f05f8fb10aa6e0ffd3a01e7a92b428a8bd9e"
  },
  "kernelspec": {
   "display_name": "Python 3.9.12 64-bit (windows store)",
   "language": "python",
   "name": "python3"
  },
  "language_info": {
   "codemirror_mode": {
    "name": "ipython",
    "version": 3
   },
   "file_extension": ".py",
   "mimetype": "text/x-python",
   "name": "python",
   "nbconvert_exporter": "python",
   "pygments_lexer": "ipython3",
   "version": "3.9.12"
  },
  "orig_nbformat": 4
 },
 "nbformat": 4,
 "nbformat_minor": 2
}
